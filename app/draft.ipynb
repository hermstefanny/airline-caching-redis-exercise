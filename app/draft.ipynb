{
 "cells": [
  {
   "cell_type": "code",
   "execution_count": 1,
   "id": "f9486f10",
   "metadata": {},
   "outputs": [],
   "source": [
    "import pandas as pd"
   ]
  },
  {
   "cell_type": "code",
   "execution_count": null,
   "id": "69088332",
   "metadata": {},
   "outputs": [
    {
     "name": "stdout",
     "output_type": "stream",
     "text": [
      "  IATA_CODE                 AIRLINE\n",
      "0        UA   United Air Lines Inc.\n",
      "1        AA  American Airlines Inc.\n",
      "2        US         US Airways Inc.\n",
      "3        F9  Frontier Airlines Inc.\n",
      "4        B6         JetBlue Airways\n"
     ]
    }
   ],
   "source": [
    "airlines_df = pd.read_csv(r\"..\\data\\airlines.csv\")\n",
    "\n",
    "\n",
    "print(airlines_df.head())\n",
    "\n"
   ]
  },
  {
   "cell_type": "code",
   "execution_count": 10,
   "id": "231a0b79",
   "metadata": {},
   "outputs": [
    {
     "name": "stdout",
     "output_type": "stream",
     "text": [
      "  IATA_CODE                              AIRPORT         CITY STATE COUNTRY  \\\n",
      "0       ABE  Lehigh Valley International Airport    Allentown    PA     USA   \n",
      "1       ABI             Abilene Regional Airport      Abilene    TX     USA   \n",
      "2       ABQ    Albuquerque International Sunport  Albuquerque    NM     USA   \n",
      "3       ABR            Aberdeen Regional Airport     Aberdeen    SD     USA   \n",
      "4       ABY   Southwest Georgia Regional Airport       Albany    GA     USA   \n",
      "\n",
      "   LATITUDE  LONGITUDE  \n",
      "0  40.65236  -75.44040  \n",
      "1  32.41132  -99.68190  \n",
      "2  35.04022 -106.60919  \n",
      "3  45.44906  -98.42183  \n",
      "4  31.53552  -84.19447  \n"
     ]
    }
   ],
   "source": [
    "airports_df = pd.read_csv(r\"..\\data\\airports.csv\")\n",
    "# flights_df = pd.read_csv(\"data/flights.csv\")\n",
    "\n",
    "print(airports_df.head())"
   ]
  },
  {
   "cell_type": "code",
   "execution_count": 12,
   "id": "2bed6a31",
   "metadata": {},
   "outputs": [
    {
     "name": "stderr",
     "output_type": "stream",
     "text": [
      "C:\\Users\\herms\\AppData\\Local\\Temp\\ipykernel_36332\\1137956796.py:1: DtypeWarning: Columns (7,8) have mixed types. Specify dtype option on import or set low_memory=False.\n",
      "  flights_df = pd.read_csv(r\"..\\data\\flights.csv\")\n"
     ]
    },
    {
     "name": "stdout",
     "output_type": "stream",
     "text": [
      "   YEAR  MONTH  DAY  DAY_OF_WEEK AIRLINE  FLIGHT_NUMBER TAIL_NUMBER  \\\n",
      "0  2015      1    1            4      AS             98      N407AS   \n",
      "1  2015      1    1            4      AA           2336      N3KUAA   \n",
      "2  2015      1    1            4      US            840      N171US   \n",
      "3  2015      1    1            4      AA            258      N3HYAA   \n",
      "4  2015      1    1            4      AS            135      N527AS   \n",
      "\n",
      "  ORIGIN_AIRPORT DESTINATION_AIRPORT  SCHEDULED_DEPARTURE  ...  ARRIVAL_TIME  \\\n",
      "0            ANC                 SEA                    5  ...         408.0   \n",
      "1            LAX                 PBI                   10  ...         741.0   \n",
      "2            SFO                 CLT                   20  ...         811.0   \n",
      "3            LAX                 MIA                   20  ...         756.0   \n",
      "4            SEA                 ANC                   25  ...         259.0   \n",
      "\n",
      "   ARRIVAL_DELAY  DIVERTED  CANCELLED  CANCELLATION_REASON  AIR_SYSTEM_DELAY  \\\n",
      "0          -22.0         0          0                  NaN               NaN   \n",
      "1           -9.0         0          0                  NaN               NaN   \n",
      "2            5.0         0          0                  NaN               NaN   \n",
      "3           -9.0         0          0                  NaN               NaN   \n",
      "4          -21.0         0          0                  NaN               NaN   \n",
      "\n",
      "   SECURITY_DELAY  AIRLINE_DELAY  LATE_AIRCRAFT_DELAY  WEATHER_DELAY  \n",
      "0             NaN            NaN                  NaN            NaN  \n",
      "1             NaN            NaN                  NaN            NaN  \n",
      "2             NaN            NaN                  NaN            NaN  \n",
      "3             NaN            NaN                  NaN            NaN  \n",
      "4             NaN            NaN                  NaN            NaN  \n",
      "\n",
      "[5 rows x 31 columns]\n"
     ]
    }
   ],
   "source": [
    "flights_df = pd.read_csv(r\"..\\data\\flights.csv\")\n",
    "print(flights_df.head())"
   ]
  },
  {
   "cell_type": "code",
   "execution_count": 13,
   "id": "356ad72b",
   "metadata": {},
   "outputs": [
    {
     "name": "stdout",
     "output_type": "stream",
     "text": [
      "YEAR : integer\n",
      "MONTH : integer\n",
      "DAY : integer\n",
      "DAY_OF_WEEK : integer\n",
      "AIRLINE : string\n",
      "FLIGHT_NUMBER : integer\n",
      "TAIL_NUMBER : string\n",
      "ORIGIN_AIRPORT : mixed-integer\n",
      "DESTINATION_AIRPORT : mixed-integer\n",
      "SCHEDULED_DEPARTURE : integer\n",
      "DEPARTURE_TIME : floating\n",
      "DEPARTURE_DELAY : floating\n",
      "TAXI_OUT : floating\n",
      "WHEELS_OFF : floating\n",
      "SCHEDULED_TIME : floating\n",
      "ELAPSED_TIME : floating\n",
      "AIR_TIME : floating\n",
      "DISTANCE : integer\n",
      "WHEELS_ON : floating\n",
      "TAXI_IN : floating\n",
      "SCHEDULED_ARRIVAL : integer\n",
      "ARRIVAL_TIME : floating\n",
      "ARRIVAL_DELAY : floating\n",
      "DIVERTED : integer\n",
      "CANCELLED : integer\n",
      "CANCELLATION_REASON : string\n",
      "AIR_SYSTEM_DELAY : floating\n",
      "SECURITY_DELAY : floating\n",
      "AIRLINE_DELAY : floating\n",
      "LATE_AIRCRAFT_DELAY : floating\n",
      "WEATHER_DELAY : floating\n"
     ]
    }
   ],
   "source": [
    "for column in flights_df.columns:\n",
    "    print(column,':',pd.api.types.infer_dtype(flights_df[column]))"
   ]
  },
  {
   "cell_type": "code",
   "execution_count": 26,
   "id": "941d6a96",
   "metadata": {},
   "outputs": [],
   "source": [
    "for column in flights_df.columns:\n",
    "    if (flights_df[column]).dtype == 'int64':\n",
    "        flights_df[column] = flights_df[column].astype('int32')\n",
    "    elif (flights_df[column]).dtype == 'float64':\n",
    "        flights_df[column] = flights_df[column].astype('float32')\n",
    "       "
   ]
  },
  {
   "cell_type": "code",
   "execution_count": 27,
   "id": "3f0db2fb",
   "metadata": {},
   "outputs": [
    {
     "name": "stdout",
     "output_type": "stream",
     "text": [
      "int32\n",
      "int32\n",
      "int32\n",
      "int32\n",
      "object\n",
      "int32\n",
      "object\n",
      "object\n",
      "object\n",
      "int32\n",
      "float32\n",
      "float32\n",
      "float32\n",
      "float32\n",
      "float32\n",
      "float32\n",
      "float32\n",
      "int32\n",
      "float32\n",
      "float32\n",
      "int32\n",
      "float32\n",
      "float32\n",
      "int32\n",
      "int32\n",
      "object\n",
      "float32\n",
      "float32\n",
      "float32\n",
      "float32\n",
      "float32\n"
     ]
    }
   ],
   "source": [
    "for column in flights_df.columns:\n",
    "    print ((flights_df[column]).dtype)"
   ]
  },
  {
   "cell_type": "code",
   "execution_count": 14,
   "id": "30dbd380",
   "metadata": {},
   "outputs": [],
   "source": [
    "flights_df[['ORIGIN_AIRPORT', 'DESTINATION_AIRPORT']]= flights_df[['ORIGIN_AIRPORT', 'DESTINATION_AIRPORT']].astype(str)"
   ]
  },
  {
   "cell_type": "code",
   "execution_count": 16,
   "id": "7de08bbf",
   "metadata": {},
   "outputs": [
    {
     "data": {
      "application/vnd.microsoft.datawrangler.viewer.v0+json": {
       "columns": [
        {
         "name": "AIRLINE",
         "rawType": "object",
         "type": "string"
        },
        {
         "name": "ARRIVAL_DELAY",
         "rawType": "float64",
         "type": "float"
        },
        {
         "name": "DEPARTURE_DELAY",
         "rawType": "float64",
         "type": "float"
        }
       ],
       "ref": "acd8429e-1d0e-485e-8b85-2995c2498660",
       "rows": [
        [
         "AA",
         "3.4513721447256764",
         "8.900856346719806"
        ],
        [
         "AS",
         "-0.9765630924118783",
         "1.7858007096736666"
        ],
        [
         "B6",
         "6.677860800940307",
         "11.5143526744102"
        ],
        [
         "DL",
         "0.18675361236390797",
         "7.36925417661782"
        ],
        [
         "EV",
         "6.585378691739733",
         "8.71593449776958"
        ],
        [
         "F9",
         "12.504706404706404",
         "13.350858345331709"
        ],
        [
         "HA",
         "2.023092805197196",
         "0.48571315965790407"
        ],
        [
         "MQ",
         "6.457873460764516",
         "10.125188203309524"
        ],
        [
         "NK",
         "14.471799501705833",
         "15.944765880783688"
        ],
        [
         "OO",
         "5.845652151300072",
         "7.801103808415331"
        ],
        [
         "UA",
         "5.431593935741549",
         "14.435441010805953"
        ],
        [
         "US",
         "3.7062088424131026",
         "6.141136917746696"
        ],
        [
         "VX",
         "4.737705721003135",
         "9.022595096521952"
        ],
        [
         "WN",
         "4.3749636792570525",
         "10.581986295158847"
        ]
       ],
       "shape": {
        "columns": 2,
        "rows": 14
       }
      },
      "text/html": [
       "<div>\n",
       "<style scoped>\n",
       "    .dataframe tbody tr th:only-of-type {\n",
       "        vertical-align: middle;\n",
       "    }\n",
       "\n",
       "    .dataframe tbody tr th {\n",
       "        vertical-align: top;\n",
       "    }\n",
       "\n",
       "    .dataframe thead th {\n",
       "        text-align: right;\n",
       "    }\n",
       "</style>\n",
       "<table border=\"1\" class=\"dataframe\">\n",
       "  <thead>\n",
       "    <tr style=\"text-align: right;\">\n",
       "      <th></th>\n",
       "      <th>ARRIVAL_DELAY</th>\n",
       "      <th>DEPARTURE_DELAY</th>\n",
       "    </tr>\n",
       "    <tr>\n",
       "      <th>AIRLINE</th>\n",
       "      <th></th>\n",
       "      <th></th>\n",
       "    </tr>\n",
       "  </thead>\n",
       "  <tbody>\n",
       "    <tr>\n",
       "      <th>AA</th>\n",
       "      <td>3.451372</td>\n",
       "      <td>8.900856</td>\n",
       "    </tr>\n",
       "    <tr>\n",
       "      <th>AS</th>\n",
       "      <td>-0.976563</td>\n",
       "      <td>1.785801</td>\n",
       "    </tr>\n",
       "    <tr>\n",
       "      <th>B6</th>\n",
       "      <td>6.677861</td>\n",
       "      <td>11.514353</td>\n",
       "    </tr>\n",
       "    <tr>\n",
       "      <th>DL</th>\n",
       "      <td>0.186754</td>\n",
       "      <td>7.369254</td>\n",
       "    </tr>\n",
       "    <tr>\n",
       "      <th>EV</th>\n",
       "      <td>6.585379</td>\n",
       "      <td>8.715934</td>\n",
       "    </tr>\n",
       "    <tr>\n",
       "      <th>F9</th>\n",
       "      <td>12.504706</td>\n",
       "      <td>13.350858</td>\n",
       "    </tr>\n",
       "    <tr>\n",
       "      <th>HA</th>\n",
       "      <td>2.023093</td>\n",
       "      <td>0.485713</td>\n",
       "    </tr>\n",
       "    <tr>\n",
       "      <th>MQ</th>\n",
       "      <td>6.457873</td>\n",
       "      <td>10.125188</td>\n",
       "    </tr>\n",
       "    <tr>\n",
       "      <th>NK</th>\n",
       "      <td>14.471800</td>\n",
       "      <td>15.944766</td>\n",
       "    </tr>\n",
       "    <tr>\n",
       "      <th>OO</th>\n",
       "      <td>5.845652</td>\n",
       "      <td>7.801104</td>\n",
       "    </tr>\n",
       "    <tr>\n",
       "      <th>UA</th>\n",
       "      <td>5.431594</td>\n",
       "      <td>14.435441</td>\n",
       "    </tr>\n",
       "    <tr>\n",
       "      <th>US</th>\n",
       "      <td>3.706209</td>\n",
       "      <td>6.141137</td>\n",
       "    </tr>\n",
       "    <tr>\n",
       "      <th>VX</th>\n",
       "      <td>4.737706</td>\n",
       "      <td>9.022595</td>\n",
       "    </tr>\n",
       "    <tr>\n",
       "      <th>WN</th>\n",
       "      <td>4.374964</td>\n",
       "      <td>10.581986</td>\n",
       "    </tr>\n",
       "  </tbody>\n",
       "</table>\n",
       "</div>"
      ],
      "text/plain": [
       "         ARRIVAL_DELAY  DEPARTURE_DELAY\n",
       "AIRLINE                                \n",
       "AA            3.451372         8.900856\n",
       "AS           -0.976563         1.785801\n",
       "B6            6.677861        11.514353\n",
       "DL            0.186754         7.369254\n",
       "EV            6.585379         8.715934\n",
       "F9           12.504706        13.350858\n",
       "HA            2.023093         0.485713\n",
       "MQ            6.457873        10.125188\n",
       "NK           14.471800        15.944766\n",
       "OO            5.845652         7.801104\n",
       "UA            5.431594        14.435441\n",
       "US            3.706209         6.141137\n",
       "VX            4.737706         9.022595\n",
       "WN            4.374964        10.581986"
      ]
     },
     "execution_count": 16,
     "metadata": {},
     "output_type": "execute_result"
    }
   ],
   "source": [
    "average_delay_per_airline = flights_df.groupby(by='AIRLINE')[['ARRIVAL_DELAY', 'DEPARTURE_DELAY']].mean()\n",
    "average_delay_per_airline"
   ]
  }
 ],
 "metadata": {
  "kernelspec": {
   "display_name": "venv (3.10.4)",
   "language": "python",
   "name": "python3"
  },
  "language_info": {
   "codemirror_mode": {
    "name": "ipython",
    "version": 3
   },
   "file_extension": ".py",
   "mimetype": "text/x-python",
   "name": "python",
   "nbconvert_exporter": "python",
   "pygments_lexer": "ipython3",
   "version": "3.10.4"
  }
 },
 "nbformat": 4,
 "nbformat_minor": 5
}
